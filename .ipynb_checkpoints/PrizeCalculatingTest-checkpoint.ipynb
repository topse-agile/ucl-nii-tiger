{
 "cells": [
  {
   "cell_type": "code",
   "execution_count": 5,
   "metadata": {
    "collapsed": true
   },
   "outputs": [],
   "source": [
    "import unittest"
   ]
  },
  {
   "cell_type": "code",
   "execution_count": 31,
   "metadata": {
    "scrolled": true
   },
   "outputs": [
    {
     "name": "stderr",
     "output_type": "stream",
     "text": [
      "...\n",
      "----------------------------------------------------------------------\n",
      "Ran 3 tests in 0.005s\n",
      "\n",
      "OK\n"
     ]
    }
   ],
   "source": [
    "class PrizeCalculatingTest(unittest.TestCase):\n",
    "    \n",
    "    def test_calc_with_initial(self):\n",
    "        calculator = PrizeCalculating()\n",
    "        self.assertEqual(calculator.calculate(), 0)\n",
    "    \n",
    "    def test_calc_with_snorkeling(self):\n",
    "        calculator = PrizeCalculating()\n",
    "        calculator.setSport(\"Snorkelling\")\n",
    "        self.assertEqual(calculator.calculate(), 5000)\n",
    "\n",
    "    def test_calc_with_diving(self):\n",
    "        calculator = PrizeCalculating()\n",
    "        calculator.setSport(\"Diving\")\n",
    "        self.assertEqual(calculator.calculate(), 7500)\n",
    "\n",
    "        \n",
    "if __name__ == '__main__':\n",
    "    unittest.main(argv=['first-arg-is-ignored'], exit=False)"
   ]
  },
  {
   "cell_type": "code",
   "execution_count": 30,
   "metadata": {
    "collapsed": true
   },
   "outputs": [],
   "source": [
    "class PrizeCalculating():\n",
    "    #Initialize as 0, \n",
    "    __sport = 0\n",
    "    \n",
    "    def setSport(self, sport):\n",
    "        self.__sport = sport\n",
    "    \n",
    "    def calculate(self):\n",
    "        if self.__sport == 'Diving':\n",
    "            return 7500\n",
    "        elif self.__sport == 'Snorkelling':\n",
    "            return 5000\n",
    "        else:\n",
    "            return 0"
   ]
  },
  {
   "cell_type": "code",
   "execution_count": null,
   "metadata": {
    "collapsed": true
   },
   "outputs": [],
   "source": []
  }
 ],
 "metadata": {
  "kernelspec": {
   "display_name": "Python 3",
   "language": "python",
   "name": "python3"
  },
  "language_info": {
   "codemirror_mode": {
    "name": "ipython",
    "version": 3
   },
   "file_extension": ".py",
   "mimetype": "text/x-python",
   "name": "python",
   "nbconvert_exporter": "python",
   "pygments_lexer": "ipython3",
   "version": "3.6.1"
  }
 },
 "nbformat": 4,
 "nbformat_minor": 2
}
